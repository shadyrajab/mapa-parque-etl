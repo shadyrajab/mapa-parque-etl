{
  "nbformat": 4,
  "nbformat_minor": 0,
  "metadata": {
    "colab": {
      "provenance": []
    },
    "kernelspec": {
      "name": "python3",
      "display_name": "Python 3"
    },
    "language_info": {
      "name": "python"
    }
  },
  "cells": [
    {
      "cell_type": "code",
      "execution_count": 29,
      "metadata": {
        "id": "5F9sM7YZr01V"
      },
      "outputs": [],
      "source": [
        "import pandas as pd"
      ]
    },
    {
      "cell_type": "code",
      "source": [
        "mapa = pd.read_excel(\"/content/mapa parque.xlsx\")\n",
        "lead = pd.read_excel(\"/content/leads asa sul e asa norte.xlsx\")"
      ],
      "metadata": {
        "id": "QXCQwn-yr7YW"
      },
      "execution_count": 30,
      "outputs": []
    },
    {
      "cell_type": "code",
      "source": [
        "# Padronizar o nome das colunas dos dois dataframes e criar a coluna cliente\n",
        "\n",
        "lead.rename(columns={\n",
        "    'CNPJ': 'cnpj',\n",
        "    'UF': 'uf',\n",
        "    'Cidade': 'municipio',\n",
        "    'CEP': 'cep',\n",
        "    'Tipo': 'tipo endereco',\n",
        "    'Bairro': 'bairro',\n",
        "    'CNAE Principal': 'cnae',\n",
        "    'Matriz/Filial - Ente Federativo': 'matriz',\n",
        "    'Natureza Jurídica': 'natureza_juridica',\n",
        "    'Data Início Atv.': 'data_abertura',\n",
        "    'Data Situação Cad.': 'data_sit_cad',\n",
        "    'Porte Empresa': 'porte',\n",
        "    'Capital Social da Empresa': 'capital_social',\n",
        "    'Regime Tributário': 'regime_tributario',\n",
        "    'Faturamento Estimado': 'faturamento',\n",
        "    'Quadro de Funcionários': 'quadro_funcionarios',\n",
        "\n",
        "}, inplace=True)\n",
        "\n",
        "lead['cliente'] = 0\n",
        "lead = lead[mapa.columns]"
      ],
      "metadata": {
        "id": "iv7VGo04NXJk"
      },
      "execution_count": 32,
      "outputs": []
    },
    {
      "cell_type": "code",
      "source": [
        "def remover_caracteres_especiais(x):\n",
        "  return x.replace('.', '').replace('-', '').replace('/', '')\n",
        "\n",
        "def matriz_ou_filial(x):\n",
        "  if 'matriz' in x.lower():\n",
        "    return 'MATRIZ'\n",
        "\n",
        "  if 'filial' in x.lower():\n",
        "    return 'FILIAL'\n",
        "\n",
        "  return x"
      ],
      "metadata": {
        "id": "xsNd71lLP7op"
      },
      "execution_count": 65,
      "outputs": []
    },
    {
      "cell_type": "code",
      "source": [
        "na_values = []"
      ],
      "metadata": {
        "id": "Zc9MkD1_WDZB"
      },
      "execution_count": 92,
      "outputs": []
    },
    {
      "cell_type": "code",
      "source": [
        "for column_lead, column_parque in zip(lead.columns, mapa.columns):\n",
        "  lead_na_values = lead[column_lead].isna().value_counts().to_dict().get(True, 0)\n",
        "  mapa_na_values = mapa[column_parque].isna().value_counts().to_dict().get(True, 0)\n",
        "\n",
        "  na_values_dict = {f'lead_{column_lead}': lead_na_values, f'mapa_{column_parque}': mapa_na_values}\n",
        "  na_values.append(na_values_dict)"
      ],
      "metadata": {
        "id": "7DslsYPHVFvI"
      },
      "execution_count": 93,
      "outputs": []
    },
    {
      "cell_type": "code",
      "source": [
        "na_values"
      ],
      "metadata": {
        "colab": {
          "base_uri": "https://localhost:8080/"
        },
        "id": "oh9hCz3JWkWQ",
        "outputId": "71d362b4-c77b-493a-8579-0f7ccfee9fa0"
      },
      "execution_count": 95,
      "outputs": [
        {
          "output_type": "execute_result",
          "data": {
            "text/plain": [
              "[{'lead_cnpj': 0, 'mapa_cnpj': 0},\n",
              " {'lead_uf': 0, 'mapa_uf': 1},\n",
              " {'lead_municipio': 0, 'mapa_municipio': 1},\n",
              " {'lead_cep': 0, 'mapa_cep': 1},\n",
              " {'lead_tipo endereco': 509, 'mapa_tipo endereco': 450},\n",
              " {'lead_bairro': 0, 'mapa_bairro': 2},\n",
              " {'lead_cnae': 0, 'mapa_cnae': 1},\n",
              " {'lead_matriz': 0, 'mapa_matriz': 1},\n",
              " {'lead_natureza_juridica': 96, 'mapa_natureza_juridica': 1},\n",
              " {'lead_data_abertura': 0, 'mapa_data_abertura': 1},\n",
              " {'lead_data_sit_cad': 0, 'mapa_data_sit_cad': 1},\n",
              " {'lead_porte': 0, 'mapa_porte': 1},\n",
              " {'lead_capital_social': 0, 'mapa_capital_social': 1},\n",
              " {'lead_regime_tributario': 0, 'mapa_regime_tributario': 1},\n",
              " {'lead_faturamento': 0, 'mapa_faturamento': 1},\n",
              " {'lead_quadro_funcionarios': 0, 'mapa_quadro_funcionarios': 1},\n",
              " {'lead_cliente': 0, 'mapa_cliente': 0}]"
            ]
          },
          "metadata": {},
          "execution_count": 95
        }
      ]
    },
    {
      "cell_type": "code",
      "source": [
        "lead.dropna(inplace=True)\n",
        "mapa.dropna(inplace=True)"
      ],
      "metadata": {
        "id": "9_Rga76aWuK-"
      },
      "execution_count": 96,
      "outputs": []
    },
    {
      "cell_type": "code",
      "source": [
        "lead['cep'] = lead['cep'].apply(lambda x: remover_caracteres_especiais(x))\n",
        "mapa['cep'] = mapa['cep'].astype(int)"
      ],
      "metadata": {
        "id": "H0kl4mFZQELg"
      },
      "execution_count": 103,
      "outputs": []
    },
    {
      "cell_type": "code",
      "source": [
        "lead['cnpj'] = lead['cnpj'].apply(lambda x: remover_caracteres_especiais(x))\n",
        "mapa['cnpj'] = mapa['cnpj'].astype(str).str.zfill(14)"
      ],
      "metadata": {
        "id": "qeKnlj6_UuAO"
      },
      "execution_count": 76,
      "outputs": []
    },
    {
      "cell_type": "code",
      "source": [
        "lead['matriz'] = lead['matriz'].apply(lambda x: matriz_ou_filial(x))\n",
        "mapa['matriz'] = mapa['matriz'].apply(lambda x: {1: 'MATRIZ', 2: 'FILIAL'}.get(x))"
      ],
      "metadata": {
        "id": "hAVmDN7eQNH3"
      },
      "execution_count": 56,
      "outputs": []
    },
    {
      "cell_type": "code",
      "source": [
        "mapa['porte'] = mapa['porte'].apply(lambda x: {1: 'MICROEMPRESA', 3: 'PEQUENO PORTE', 5: 'MÉDIO/GRANDE PORTE'}.get(x))\n",
        "lead['porte'] = lead['porte'].apply(lambda x: {'MICRO EMPRESA': 'MICROEMPRESA', 'MICRO EMPREENDEDOR INDIVIDUAL (MEI)': 'MICROEMPRESA', 'EMPRESA DE PEQUENO PORTE': 'PEQUENO PORTE', 'MÉDIO/GRANDE PORTE': 'MÉDIO/GRANDE PORTE'}.get(x))"
      ],
      "metadata": {
        "id": "UOygHi23QzCH"
      },
      "execution_count": 48,
      "outputs": []
    },
    {
      "cell_type": "code",
      "source": [
        "# Remover todas as linhas de lead cujo cpnj esteja presente em mapa\n",
        "lead = lead[~lead['cnpj'].isin(mapa['cnpj'])]"
      ],
      "metadata": {
        "id": "Rz0AOrn2XSjf"
      },
      "execution_count": 107,
      "outputs": []
    },
    {
      "cell_type": "code",
      "source": [
        "# Concatenar as duas bases\n",
        "base = pd.concat([mapa, lead])"
      ],
      "metadata": {
        "id": "plPPdQxqPYq9"
      },
      "execution_count": 109,
      "outputs": []
    },
    {
      "cell_type": "code",
      "source": [
        "base.to_excel(\"base completa regressão.xlsx\")"
      ],
      "metadata": {
        "id": "7UBhgcO6YF89"
      },
      "execution_count": 113,
      "outputs": []
    },
    {
      "cell_type": "code",
      "source": [],
      "metadata": {
        "id": "tlt6EVxeYJUl"
      },
      "execution_count": null,
      "outputs": []
    }
  ]
}